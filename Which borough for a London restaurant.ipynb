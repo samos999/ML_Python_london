{
    "nbformat_minor": 1, 
    "cells": [
        {
            "source": "# Which borough for a London restaurant", 
            "cell_type": "markdown", 
            "metadata": {
                "collapsed": true
            }
        }, 
        {
            "source": "## Introduction\n\n### A description of the problem and a discussion of the background.\n\nWe want to choose the best place in london in order to open a restaurant. \nLondon is divided in 33 Borough. So the question is in which of thoses borough would suit better for a restaurant. \n\n### A description of the data and how it will be used to solve the problem.\n\nIn order to build our data set we need first the  list of  london's borough. We can get it from wikipedia: \n'https://en.wikipedia.org/wiki/London_boroughs' . \nTo pull data out of the HTML and XML files we will use **BeautifulSoup**. \n\nOnce we get the london's borough list we use **geopy library** to get the latitude and longitude values. \n\nAnd then we eventually use **Foursquare** to get the top 100 venues from each Borough. We end up with a  table including thoses columns  :\n- Borough\n- Borough Latitude\n- Borough Longitude\n- Venue\n- Venue Latitude\n- Venue Longitude\n- Venue Category\n\n\nWe will use this data to find the best borough for a restaurant. \n       \n#### Methodology\n\nAs we are working with unlabeled data we will choose **k-means** models for clustering. Using the **Venue Category**, we will separate the london's borough into groups that have similar characteristics. And then from each group we will find those who are the most suitable for a restaurant.  \n\n", 
            "cell_type": "markdown", 
            "metadata": {}
        }, 
        {
            "source": "## Table of Contents\n\n1. <a href=\"#item1\">Import necessary Libraries</a>    \n2. <a href=\"#item2\">Use BeautifulSoup to pull out from of the HTML and XML files</a> \n3. <a href=\"#item2\">Use geopy library to get the latitude and longitude values</a> \n4. <a href=\"#item2\">use Foursquare to get the top 100 venues from each Borough</a> \n", 
            "cell_type": "markdown", 
            "metadata": {}
        }, 
        {
            "source": "### 1. Import necessary Libraries", 
            "cell_type": "markdown", 
            "metadata": {}
        }, 
        {
            "execution_count": 2, 
            "cell_type": "code", 
            "metadata": {}, 
            "outputs": [
                {
                    "output_type": "stream", 
                    "name": "stdout", 
                    "text": "Libraries imported.\n"
                }
            ], 
            "source": "import requests # library to handle requests\nimport pandas as pd # library for data analsysis\nimport numpy as np # library to handle data in a vectorized manner\n\nfrom bs4 import BeautifulSoup # library for pulling data out of HTML and XML files\nfrom geopy.geocoders import Nominatim # module to convert an address into latitude and longitude values\n\n\nprint('Libraries imported.')"
        }, 
        {
            "source": "### 2. Use BeautifulSoup to pull out from of the HTML and XML files", 
            "cell_type": "markdown", 
            "metadata": {}
        }, 
        {
            "execution_count": 4, 
            "cell_type": "code", 
            "metadata": {}, 
            "outputs": [], 
            "source": "# url\nurl = 'https://en.wikipedia.org/wiki/London_boroughs'\ndata_xml = requests.get(url).text\nsoup_postal_codes = BeautifulSoup(data_xml,'lxml')\n\n# find the table in xml code\nTable_boroughs = soup_postal_codes.find('table',{'class':'wikitable sortable'})\n\n# instantiate the dataframe\ncolumn_names = ['Borough', 'Designation', 'Former areas 1', 'Former areas 2', 'Former areas 3', 'Former areas 4', 'Former areas 5'] \nBorough_table = pd.DataFrame(columns=column_names)\n\n#Table_boroughs\n\nTable_boroughs = Table_boroughs.find_all('tr')\nboroughs_list = []\n\nfor balise_tr in Table_boroughs:\n    balise_td = balise_tr.find_all('td')\n    row = [i.text for i in balise_td]\n    boroughs_list.append(row)\n\ndel boroughs_list[0]\n\nfor data in boroughs_list:\n    Borough = data[0]\n    Designation = data[1]\n    Former_areas_1 = data[2]\n    Former_areas_2 = data[3]\n    Former_areas_3 = data[4]\n    Former_areas_4 = data[5]\n    Former_areas_5 = data[6]\n\n    Borough_table = Borough_table.append({'Borough': Borough,\n                                   'Designation': Designation,\n                                   'Former areas 1':Former_areas_1,\n                                    'Former areas 2':Former_areas_2,\n                                    'Former areas 3':Former_areas_3,\n                                    'Former areas 4':Former_areas_4,\n                                    'Former areas 5':Former_areas_5 }, \n                                    ignore_index=True)\n\n# clean data from :\\n and [notes]\nBorough_table.Borough = Borough_table.Borough.apply(lambda ele : ele.strip('\\n'))\nBorough_table.Designation = Borough_table.Designation.apply(lambda ele : ele.strip('\\n'))\n\nresult_split = Borough_table['Borough'].str.split('[')\n\n\nBorough_list = []\nfor ele in result_split:\n    #print(ele[0])\n    Borough_list.append(ele[0])\n\nBorough_table['Borough'] = Borough_list\n\nBorough_table_IO = Borough_table[['Borough','Designation']]\n\n"
        }, 
        {
            "execution_count": 6, 
            "cell_type": "code", 
            "metadata": {}, 
            "outputs": [
                {
                    "execution_count": 6, 
                    "metadata": {}, 
                    "data": {
                        "text/html": "<div>\n<style scoped>\n    .dataframe tbody tr th:only-of-type {\n        vertical-align: middle;\n    }\n\n    .dataframe tbody tr th {\n        vertical-align: top;\n    }\n\n    .dataframe thead th {\n        text-align: right;\n    }\n</style>\n<table border=\"1\" class=\"dataframe\">\n  <thead>\n    <tr style=\"text-align: right;\">\n      <th></th>\n      <th>Borough</th>\n      <th>Designation</th>\n    </tr>\n  </thead>\n  <tbody>\n    <tr>\n      <th>0</th>\n      <td>Greenwich</td>\n      <td>Inner</td>\n    </tr>\n    <tr>\n      <th>1</th>\n      <td>Hackney</td>\n      <td>Inner</td>\n    </tr>\n    <tr>\n      <th>2</th>\n      <td>Hammersmith</td>\n      <td>Inner</td>\n    </tr>\n    <tr>\n      <th>3</th>\n      <td>Islington</td>\n      <td>Inner</td>\n    </tr>\n    <tr>\n      <th>4</th>\n      <td>Kensington and Chelsea</td>\n      <td>Inner</td>\n    </tr>\n  </tbody>\n</table>\n</div>", 
                        "text/plain": "                  Borough Designation\n0               Greenwich       Inner\n1                 Hackney       Inner\n2             Hammersmith       Inner\n3               Islington       Inner\n4  Kensington and Chelsea       Inner"
                    }, 
                    "output_type": "execute_result"
                }
            ], 
            "source": "Borough_table_IO.head()"
        }, 
        {
            "source": "### 3. Use geopy library to get the latitude and longitude values", 
            "cell_type": "markdown", 
            "metadata": {}
        }, 
        {
            "execution_count": 7, 
            "cell_type": "code", 
            "metadata": {}, 
            "outputs": [], 
            "source": "# function that extracts the coordinate of a city\ndef get_coordinate(address):\n    \n    geolocator = Nominatim(user_agent=\"explorer\")\n    location = geolocator.geocode(address)\n    return location"
        }, 
        {
            "execution_count": 8, 
            "cell_type": "code", 
            "metadata": {}, 
            "outputs": [], 
            "source": "Borough_list_IO = []\n\nfor Borough in Borough_table_IO.Borough :\n    LD_loc = get_coordinate(Borough + ', London, UK')\n    row = [Borough, LD_loc.latitude,LD_loc.longitude]\n    #print('row : ', row)\n    Borough_list_IO.append(row)\n"
        }, 
        {
            "execution_count": 9, 
            "cell_type": "code", 
            "metadata": {}, 
            "outputs": [], 
            "source": "# instantiate the dataframe\n\ncolumn_names = ['Borough', 'latitude', 'longitude'] \nBorough_lat_long = pd.DataFrame(columns=column_names)\n"
        }, 
        {
            "execution_count": 10, 
            "cell_type": "code", 
            "metadata": {}, 
            "outputs": [], 
            "source": "for data in Borough_list_IO:\n    Borough = data[0]\n    latitude = data[1]\n    longitude = data[2]\n\n\n    Borough_lat_long = Borough_lat_long.append({'Borough': Borough,\n                                                'latitude': latitude,\n                                                'longitude':longitude}, \n                                               ignore_index=True)\n"
        }, 
        {
            "execution_count": 11, 
            "cell_type": "code", 
            "metadata": {}, 
            "outputs": [
                {
                    "execution_count": 11, 
                    "metadata": {}, 
                    "data": {
                        "text/html": "<div>\n<style scoped>\n    .dataframe tbody tr th:only-of-type {\n        vertical-align: middle;\n    }\n\n    .dataframe tbody tr th {\n        vertical-align: top;\n    }\n\n    .dataframe thead th {\n        text-align: right;\n    }\n</style>\n<table border=\"1\" class=\"dataframe\">\n  <thead>\n    <tr style=\"text-align: right;\">\n      <th></th>\n      <th>Borough</th>\n      <th>latitude</th>\n      <th>longitude</th>\n    </tr>\n  </thead>\n  <tbody>\n    <tr>\n      <th>0</th>\n      <td>Greenwich</td>\n      <td>51.482084</td>\n      <td>-0.004542</td>\n    </tr>\n    <tr>\n      <th>1</th>\n      <td>Hackney</td>\n      <td>51.543240</td>\n      <td>-0.049362</td>\n    </tr>\n    <tr>\n      <th>2</th>\n      <td>Hammersmith</td>\n      <td>51.492038</td>\n      <td>-0.223640</td>\n    </tr>\n    <tr>\n      <th>3</th>\n      <td>Islington</td>\n      <td>51.538429</td>\n      <td>-0.099905</td>\n    </tr>\n    <tr>\n      <th>4</th>\n      <td>Kensington and Chelsea</td>\n      <td>51.498995</td>\n      <td>-0.199123</td>\n    </tr>\n  </tbody>\n</table>\n</div>", 
                        "text/plain": "                  Borough   latitude  longitude\n0               Greenwich  51.482084  -0.004542\n1                 Hackney  51.543240  -0.049362\n2             Hammersmith  51.492038  -0.223640\n3               Islington  51.538429  -0.099905\n4  Kensington and Chelsea  51.498995  -0.199123"
                    }, 
                    "output_type": "execute_result"
                }
            ], 
            "source": "Borough_lat_long.head()"
        }, 
        {
            "source": "### 4. Use Foursquare to get the top 100 venues from each Borough", 
            "cell_type": "markdown", 
            "metadata": {}
        }, 
        {
            "execution_count": 13, 
            "cell_type": "code", 
            "metadata": {}, 
            "outputs": [], 
            "source": "# The code was removed by Watson Studio for sharing."
        }, 
        {
            "execution_count": 14, 
            "cell_type": "code", 
            "metadata": {}, 
            "outputs": [], 
            "source": "def getNearbyVenues(names, latitudes, longitudes, radius=500, LIMIT= 100, VERSION = '20120618' ):\n    \n    venues_list=[]\n    for name, lat, lng in zip(names, latitudes, longitudes):\n        print(name)\n            \n        # create the API request URL\n        url = 'https://api.foursquare.com/v2/venues/explore?&client_id={}&client_secret={}&v={}&ll={},{}&radius={}&limit={}'.format(\n            CLIENT_ID, \n            CLIENT_SECRET, \n            VERSION, \n            lat, \n            lng, \n            radius, \n            LIMIT)\n            \n        # make the GET request\n        results = requests.get(url).json()[\"response\"]['groups'][0]['items']\n        \n        # return only relevant information for each nearby venue\n        venues_list.append([(\n            name, \n            lat, \n            lng, \n            v['venue']['name'], \n            v['venue']['location']['lat'], \n            v['venue']['location']['lng'],  \n            v['venue']['categories'][0]['name']) for v in results])\n\n    nearby_venues = pd.DataFrame([item for venue_list in venues_list for item in venue_list])\n    nearby_venues.columns = ['Borough', \n                  'Borough Latitude', \n                  'Borough Longitude', \n                  'Venue', \n                  'Venue Latitude', \n                  'Venue Longitude', \n                  'Venue Category']\n    \n    return(nearby_venues)"
        }, 
        {
            "execution_count": 15, 
            "cell_type": "code", 
            "metadata": {}, 
            "outputs": [
                {
                    "output_type": "stream", 
                    "name": "stdout", 
                    "text": "Greenwich\nHackney\nHammersmith\nIslington\nKensington and Chelsea\nLambeth\nLewisham\nSouthwark\nTower Hamlets\nWandsworth\nWestminster\nBarking\nBarnet\nBexley\nBrent\nBromley\nCroydon\nEaling\nEnfield\nHaringey\nHarrow\nHavering\nHillingdon\nHounslow\nKingston upon Thames\nMerton\nNewham\nRedbridge\nRichmond upon Thames\nSutton\nCamden\nWaltham Forest\n"
                }
            ], 
            "source": "london_venues = getNearbyVenues(names=Borough_lat_long['Borough'],\n                                   latitudes=Borough_lat_long['latitude'],\n                                   longitudes=Borough_lat_long['longitude']\n                                  )"
        }, 
        {
            "execution_count": 16, 
            "cell_type": "code", 
            "metadata": {}, 
            "outputs": [
                {
                    "execution_count": 16, 
                    "metadata": {}, 
                    "data": {
                        "text/html": "<div>\n<style scoped>\n    .dataframe tbody tr th:only-of-type {\n        vertical-align: middle;\n    }\n\n    .dataframe tbody tr th {\n        vertical-align: top;\n    }\n\n    .dataframe thead th {\n        text-align: right;\n    }\n</style>\n<table border=\"1\" class=\"dataframe\">\n  <thead>\n    <tr style=\"text-align: right;\">\n      <th></th>\n      <th>Borough</th>\n      <th>Borough Latitude</th>\n      <th>Borough Longitude</th>\n      <th>Venue</th>\n      <th>Venue Latitude</th>\n      <th>Venue Longitude</th>\n      <th>Venue Category</th>\n    </tr>\n  </thead>\n  <tbody>\n    <tr>\n      <th>0</th>\n      <td>Greenwich</td>\n      <td>51.482084</td>\n      <td>-0.004542</td>\n      <td>Old Royal Naval College</td>\n      <td>51.483234</td>\n      <td>-0.005579</td>\n      <td>Historic Site</td>\n    </tr>\n    <tr>\n      <th>1</th>\n      <td>Greenwich</td>\n      <td>51.482084</td>\n      <td>-0.004542</td>\n      <td>Painted Hall</td>\n      <td>51.482889</td>\n      <td>-0.006420</td>\n      <td>Museum</td>\n    </tr>\n    <tr>\n      <th>2</th>\n      <td>Greenwich</td>\n      <td>51.482084</td>\n      <td>-0.004542</td>\n      <td>National Maritime Museum</td>\n      <td>51.481329</td>\n      <td>-0.005581</td>\n      <td>History Museum</td>\n    </tr>\n    <tr>\n      <th>3</th>\n      <td>Greenwich</td>\n      <td>51.482084</td>\n      <td>-0.004542</td>\n      <td>Greenwich Naval College Gardens</td>\n      <td>51.483007</td>\n      <td>-0.008362</td>\n      <td>Garden</td>\n    </tr>\n    <tr>\n      <th>4</th>\n      <td>Greenwich</td>\n      <td>51.482084</td>\n      <td>-0.004542</td>\n      <td>The Plume of Feathers</td>\n      <td>51.481945</td>\n      <td>-0.001126</td>\n      <td>Pub</td>\n    </tr>\n  </tbody>\n</table>\n</div>", 
                        "text/plain": "     Borough  Borough Latitude  Borough Longitude  \\\n0  Greenwich         51.482084          -0.004542   \n1  Greenwich         51.482084          -0.004542   \n2  Greenwich         51.482084          -0.004542   \n3  Greenwich         51.482084          -0.004542   \n4  Greenwich         51.482084          -0.004542   \n\n                             Venue  Venue Latitude  Venue Longitude  \\\n0          Old Royal Naval College       51.483234        -0.005579   \n1                     Painted Hall       51.482889        -0.006420   \n2         National Maritime Museum       51.481329        -0.005581   \n3  Greenwich Naval College Gardens       51.483007        -0.008362   \n4            The Plume of Feathers       51.481945        -0.001126   \n\n   Venue Category  \n0   Historic Site  \n1          Museum  \n2  History Museum  \n3          Garden  \n4             Pub  "
                    }, 
                    "output_type": "execute_result"
                }
            ], 
            "source": "london_venues.head()"
        }, 
        {
            "execution_count": null, 
            "cell_type": "code", 
            "metadata": {}, 
            "outputs": [], 
            "source": ""
        }
    ], 
    "metadata": {
        "kernelspec": {
            "display_name": "Python 3.6", 
            "name": "python3", 
            "language": "python"
        }, 
        "language_info": {
            "mimetype": "text/x-python", 
            "nbconvert_exporter": "python", 
            "version": "3.6.8", 
            "name": "python", 
            "file_extension": ".py", 
            "pygments_lexer": "ipython3", 
            "codemirror_mode": {
                "version": 3, 
                "name": "ipython"
            }
        }
    }, 
    "nbformat": 4
}