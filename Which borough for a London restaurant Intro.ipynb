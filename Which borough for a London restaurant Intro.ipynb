{
    "nbformat_minor": 1, 
    "cells": [
        {
            "source": "# Which borough for a London restaurant", 
            "cell_type": "markdown", 
            "metadata": {
                "collapsed": true
            }
        }, 
        {
            "source": "## Introduction\n\n### A description of the problem and a discussion of the background.\n\nA restaurant company want to develop a branch in london. But as the rent in london is very expensive we want to be sure the chosen place will be the most interesting for this kind of activity.\nThus we want to choose the best place in order to open a restaurant. \n\nLondon is divided in 33 Borough. \nSo the question is in which of thoses borough would suit better for a restaurant. \n\n### A description of the data and how it will be used to solve the problem.\n\nIn order to build our data set we need first the  list of  london's borough. We can get it from wikipedia: \n'https://en.wikipedia.org/wiki/London_boroughs' . \nTo pull data out of the HTML and XML files we will use **BeautifulSoup**. \n\nOnce we get the london's borough list we use **geopy library** to get the latitude and longitude values. \n\nAnd then we eventually use **Foursquare** to get the top 100 venues from each Borough. We end up with a  table including thoses columns  :\n- Borough\n- Borough Latitude\n- Borough Longitude\n- Venue\n- Venue Latitude\n- Venue Longitude\n- Venue Category\n\n\nWe will use this data to find the best borough for a restaurant. \n       \n#### Methodology\n\nAs we are working with unlabeled data we will choose **k-means** models for clustering. Using the **Venue Category**, we will separate the london's borough into groups that have similar characteristics. And then from each group we will find those who are the most suitable for a restaurant.  \n\n", 
            "cell_type": "markdown", 
            "metadata": {}
        }, 
        {
            "execution_count": 16, 
            "cell_type": "code", 
            "metadata": {}, 
            "outputs": [
                {
                    "execution_count": 16, 
                    "metadata": {}, 
                    "data": {
                        "text/html": "<div>\n<style scoped>\n    .dataframe tbody tr th:only-of-type {\n        vertical-align: middle;\n    }\n\n    .dataframe tbody tr th {\n        vertical-align: top;\n    }\n\n    .dataframe thead th {\n        text-align: right;\n    }\n</style>\n<table border=\"1\" class=\"dataframe\">\n  <thead>\n    <tr style=\"text-align: right;\">\n      <th></th>\n      <th>Borough</th>\n      <th>Borough Latitude</th>\n      <th>Borough Longitude</th>\n      <th>Venue</th>\n      <th>Venue Latitude</th>\n      <th>Venue Longitude</th>\n      <th>Venue Category</th>\n    </tr>\n  </thead>\n  <tbody>\n    <tr>\n      <th>0</th>\n      <td>Greenwich</td>\n      <td>51.482084</td>\n      <td>-0.004542</td>\n      <td>Old Royal Naval College</td>\n      <td>51.483234</td>\n      <td>-0.005579</td>\n      <td>Historic Site</td>\n    </tr>\n    <tr>\n      <th>1</th>\n      <td>Greenwich</td>\n      <td>51.482084</td>\n      <td>-0.004542</td>\n      <td>Painted Hall</td>\n      <td>51.482889</td>\n      <td>-0.006420</td>\n      <td>Museum</td>\n    </tr>\n    <tr>\n      <th>2</th>\n      <td>Greenwich</td>\n      <td>51.482084</td>\n      <td>-0.004542</td>\n      <td>National Maritime Museum</td>\n      <td>51.481329</td>\n      <td>-0.005581</td>\n      <td>History Museum</td>\n    </tr>\n    <tr>\n      <th>3</th>\n      <td>Greenwich</td>\n      <td>51.482084</td>\n      <td>-0.004542</td>\n      <td>Greenwich Naval College Gardens</td>\n      <td>51.483007</td>\n      <td>-0.008362</td>\n      <td>Garden</td>\n    </tr>\n    <tr>\n      <th>4</th>\n      <td>Greenwich</td>\n      <td>51.482084</td>\n      <td>-0.004542</td>\n      <td>The Plume of Feathers</td>\n      <td>51.481945</td>\n      <td>-0.001126</td>\n      <td>Pub</td>\n    </tr>\n  </tbody>\n</table>\n</div>", 
                        "text/plain": "     Borough  Borough Latitude  Borough Longitude  \\\n0  Greenwich         51.482084          -0.004542   \n1  Greenwich         51.482084          -0.004542   \n2  Greenwich         51.482084          -0.004542   \n3  Greenwich         51.482084          -0.004542   \n4  Greenwich         51.482084          -0.004542   \n\n                             Venue  Venue Latitude  Venue Longitude  \\\n0          Old Royal Naval College       51.483234        -0.005579   \n1                     Painted Hall       51.482889        -0.006420   \n2         National Maritime Museum       51.481329        -0.005581   \n3  Greenwich Naval College Gardens       51.483007        -0.008362   \n4            The Plume of Feathers       51.481945        -0.001126   \n\n   Venue Category  \n0   Historic Site  \n1          Museum  \n2  History Museum  \n3          Garden  \n4             Pub  "
                    }, 
                    "output_type": "execute_result"
                }
            ], 
            "source": "london_venues.head()"
        }, 
        {
            "execution_count": null, 
            "cell_type": "code", 
            "metadata": {}, 
            "outputs": [], 
            "source": ""
        }
    ], 
    "metadata": {
        "kernelspec": {
            "display_name": "Python 3.6", 
            "name": "python3", 
            "language": "python"
        }, 
        "language_info": {
            "mimetype": "text/x-python", 
            "nbconvert_exporter": "python", 
            "version": "3.6.8", 
            "name": "python", 
            "file_extension": ".py", 
            "pygments_lexer": "ipython3", 
            "codemirror_mode": {
                "version": 3, 
                "name": "ipython"
            }
        }
    }, 
    "nbformat": 4
}