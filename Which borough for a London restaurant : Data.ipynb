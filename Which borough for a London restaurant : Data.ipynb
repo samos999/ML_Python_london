{
    "nbformat_minor": 1, 
    "cells": [
        {
            "source": "# Which borough for a London restaurant", 
            "cell_type": "markdown", 
            "metadata": {
                "collapsed": true
            }
        }, 
        {
            "source": "## Table of Contents\n\n1. <a href=\"#item1\">Import necessary Libraries</a>    \n2. <a href=\"#item2\">Use BeautifulSoup to pull out from of the HTML and XML files</a> \n3. <a href=\"#item2\">Use geopy library to get the latitude and longitude values</a> \n4. <a href=\"#item2\">Use Foursquare to get the top 100 venues from each Borough</a> \n", 
            "cell_type": "markdown", 
            "metadata": {}
        }, 
        {
            "source": "### 1. Import necessary Libraries", 
            "cell_type": "markdown", 
            "metadata": {}
        }, 
        {
            "execution_count": 1, 
            "cell_type": "code", 
            "metadata": {}, 
            "outputs": [
                {
                    "output_type": "stream", 
                    "name": "stdout", 
                    "text": "Libraries imported.\n"
                }
            ], 
            "source": "import requests # library to handle requests\nimport pandas as pd # library for data analsysis\nimport numpy as np # library to handle data in a vectorized manner\n\nfrom bs4 import BeautifulSoup # library for pulling data out of HTML and XML files\nfrom geopy.geocoders import Nominatim # module to convert an address into latitude and longitude values\n\n\nprint('Libraries imported.')"
        }, 
        {
            "source": "### 2. Use BeautifulSoup to pull out from of the HTML and XML files", 
            "cell_type": "markdown", 
            "metadata": {}
        }, 
        {
            "execution_count": 2, 
            "cell_type": "code", 
            "metadata": {}, 
            "outputs": [], 
            "source": "# url\nurl = 'https://en.wikipedia.org/wiki/London_boroughs'\ndata_xml = requests.get(url).text\nsoup_postal_codes = BeautifulSoup(data_xml,'lxml')\n\n# find the table in xml code\nTable_boroughs = soup_postal_codes.find('table',{'class':'wikitable sortable'})\n\n# instantiate the dataframe\ncolumn_names = ['Borough', 'Designation', 'Former areas 1', 'Former areas 2', 'Former areas 3', 'Former areas 4', 'Former areas 5'] \nBorough_table = pd.DataFrame(columns=column_names)\n\n#Table_boroughs\n\nTable_boroughs = Table_boroughs.find_all('tr')\nboroughs_list = []\n\nfor balise_tr in Table_boroughs:\n    balise_td = balise_tr.find_all('td')\n    row = [i.text for i in balise_td]\n    boroughs_list.append(row)\n\ndel boroughs_list[0]\n\nfor data in boroughs_list:\n    Borough = data[0]\n    Designation = data[1]\n    Former_areas_1 = data[2]\n    Former_areas_2 = data[3]\n    Former_areas_3 = data[4]\n    Former_areas_4 = data[5]\n    Former_areas_5 = data[6]\n\n    Borough_table = Borough_table.append({'Borough': Borough,\n                                   'Designation': Designation,\n                                   'Former areas 1':Former_areas_1,\n                                    'Former areas 2':Former_areas_2,\n                                    'Former areas 3':Former_areas_3,\n                                    'Former areas 4':Former_areas_4,\n                                    'Former areas 5':Former_areas_5 }, \n                                    ignore_index=True)\n\n# clean data from :\\n and [notes]\nBorough_table.Borough = Borough_table.Borough.apply(lambda ele : ele.strip('\\n'))\nBorough_table.Designation = Borough_table.Designation.apply(lambda ele : ele.strip('\\n'))\n\nresult_split = Borough_table['Borough'].str.split('[')\n\n\nBorough_list = []\nfor ele in result_split:\n    #print(ele[0])\n    Borough_list.append(ele[0])\n\nBorough_table['Borough'] = Borough_list\n\nBorough_table_IO = Borough_table[['Borough','Designation']]\n\n"
        }, 
        {
            "execution_count": 3, 
            "cell_type": "code", 
            "metadata": {}, 
            "outputs": [
                {
                    "execution_count": 3, 
                    "metadata": {}, 
                    "data": {
                        "text/html": "<div>\n<style scoped>\n    .dataframe tbody tr th:only-of-type {\n        vertical-align: middle;\n    }\n\n    .dataframe tbody tr th {\n        vertical-align: top;\n    }\n\n    .dataframe thead th {\n        text-align: right;\n    }\n</style>\n<table border=\"1\" class=\"dataframe\">\n  <thead>\n    <tr style=\"text-align: right;\">\n      <th></th>\n      <th>Borough</th>\n      <th>Designation</th>\n    </tr>\n  </thead>\n  <tbody>\n    <tr>\n      <th>0</th>\n      <td>Greenwich</td>\n      <td>Inner</td>\n    </tr>\n    <tr>\n      <th>1</th>\n      <td>Hackney</td>\n      <td>Inner</td>\n    </tr>\n    <tr>\n      <th>2</th>\n      <td>Hammersmith</td>\n      <td>Inner</td>\n    </tr>\n    <tr>\n      <th>3</th>\n      <td>Islington</td>\n      <td>Inner</td>\n    </tr>\n    <tr>\n      <th>4</th>\n      <td>Kensington and Chelsea</td>\n      <td>Inner</td>\n    </tr>\n  </tbody>\n</table>\n</div>", 
                        "text/plain": "                  Borough Designation\n0               Greenwich       Inner\n1                 Hackney       Inner\n2             Hammersmith       Inner\n3               Islington       Inner\n4  Kensington and Chelsea       Inner"
                    }, 
                    "output_type": "execute_result"
                }
            ], 
            "source": "Borough_table_IO.head()"
        }, 
        {
            "source": "### 3. Use geopy library to get the latitude and longitude values", 
            "cell_type": "markdown", 
            "metadata": {}
        }, 
        {
            "execution_count": 4, 
            "cell_type": "code", 
            "metadata": {}, 
            "outputs": [], 
            "source": "# function that extracts the coordinate of a city\ndef get_coordinate(address):\n    \n    geolocator = Nominatim(user_agent=\"explorer\")\n    location = geolocator.geocode(address)\n    return location"
        }, 
        {
            "execution_count": 5, 
            "cell_type": "code", 
            "metadata": {}, 
            "outputs": [], 
            "source": "Borough_list_IO = []\n\nfor Borough in Borough_table_IO.Borough :\n    LD_loc = get_coordinate(Borough + ', London, UK')\n    row = [Borough, LD_loc.latitude,LD_loc.longitude]\n    #print('row : ', row)\n    Borough_list_IO.append(row)\n"
        }, 
        {
            "execution_count": 6, 
            "cell_type": "code", 
            "metadata": {}, 
            "outputs": [], 
            "source": "# instantiate the dataframe\n\ncolumn_names = ['Borough', 'latitude', 'longitude'] \nBorough_lat_long = pd.DataFrame(columns=column_names)\n"
        }, 
        {
            "execution_count": 7, 
            "cell_type": "code", 
            "metadata": {}, 
            "outputs": [], 
            "source": "for data in Borough_list_IO:\n    Borough = data[0]\n    latitude = data[1]\n    longitude = data[2]\n\n\n    Borough_lat_long = Borough_lat_long.append({'Borough': Borough,\n                                                'latitude': latitude,\n                                                'longitude':longitude}, \n                                               ignore_index=True)\n"
        }, 
        {
            "execution_count": 8, 
            "cell_type": "code", 
            "metadata": {}, 
            "outputs": [
                {
                    "execution_count": 8, 
                    "metadata": {}, 
                    "data": {
                        "text/html": "<div>\n<style scoped>\n    .dataframe tbody tr th:only-of-type {\n        vertical-align: middle;\n    }\n\n    .dataframe tbody tr th {\n        vertical-align: top;\n    }\n\n    .dataframe thead th {\n        text-align: right;\n    }\n</style>\n<table border=\"1\" class=\"dataframe\">\n  <thead>\n    <tr style=\"text-align: right;\">\n      <th></th>\n      <th>Borough</th>\n      <th>latitude</th>\n      <th>longitude</th>\n    </tr>\n  </thead>\n  <tbody>\n    <tr>\n      <th>0</th>\n      <td>Greenwich</td>\n      <td>51.482084</td>\n      <td>-0.004542</td>\n    </tr>\n    <tr>\n      <th>1</th>\n      <td>Hackney</td>\n      <td>51.543240</td>\n      <td>-0.049362</td>\n    </tr>\n    <tr>\n      <th>2</th>\n      <td>Hammersmith</td>\n      <td>51.492038</td>\n      <td>-0.223640</td>\n    </tr>\n    <tr>\n      <th>3</th>\n      <td>Islington</td>\n      <td>51.538429</td>\n      <td>-0.099905</td>\n    </tr>\n    <tr>\n      <th>4</th>\n      <td>Kensington and Chelsea</td>\n      <td>51.498995</td>\n      <td>-0.199123</td>\n    </tr>\n  </tbody>\n</table>\n</div>", 
                        "text/plain": "                  Borough   latitude  longitude\n0               Greenwich  51.482084  -0.004542\n1                 Hackney  51.543240  -0.049362\n2             Hammersmith  51.492038  -0.223640\n3               Islington  51.538429  -0.099905\n4  Kensington and Chelsea  51.498995  -0.199123"
                    }, 
                    "output_type": "execute_result"
                }
            ], 
            "source": "Borough_lat_long.head()"
        }, 
        {
            "source": "### 4. Use Foursquare to get the top 100 venues from each Borough", 
            "cell_type": "markdown", 
            "metadata": {}
        }, 
        {
            "execution_count": 9, 
            "cell_type": "code", 
            "metadata": {}, 
            "outputs": [], 
            "source": "# The code was removed by Watson Studio for sharing."
        }, 
        {
            "execution_count": 10, 
            "cell_type": "code", 
            "metadata": {}, 
            "outputs": [], 
            "source": "def getNearbyVenues(names, latitudes, longitudes, radius=500, LIMIT= 100, VERSION = '20120618' ):\n    \n    venues_list=[]\n    for name, lat, lng in zip(names, latitudes, longitudes):\n        print(name)\n            \n        # create the API request URL\n        url = 'https://api.foursquare.com/v2/venues/explore?&client_id={}&client_secret={}&v={}&ll={},{}&radius={}&limit={}'.format(\n            CLIENT_ID, \n            CLIENT_SECRET, \n            VERSION, \n            lat, \n            lng, \n            radius, \n            LIMIT)\n            \n        # make the GET request\n        results = requests.get(url).json()[\"response\"]['groups'][0]['items']\n        \n        # return only relevant information for each nearby venue\n        venues_list.append([(\n            name, \n            lat, \n            lng, \n            v['venue']['name'], \n            v['venue']['location']['lat'], \n            v['venue']['location']['lng'],  \n            v['venue']['categories'][0]['name']) for v in results])\n\n    nearby_venues = pd.DataFrame([item for venue_list in venues_list for item in venue_list])\n    nearby_venues.columns = ['Borough', \n                  'Borough Latitude', \n                  'Borough Longitude', \n                  'Venue', \n                  'Venue Latitude', \n                  'Venue Longitude', \n                  'Venue Category']\n    \n    return(nearby_venues)"
        }, 
        {
            "execution_count": 11, 
            "cell_type": "code", 
            "metadata": {}, 
            "outputs": [
                {
                    "output_type": "stream", 
                    "name": "stdout", 
                    "text": "Greenwich\nHackney\nHammersmith\nIslington\nKensington and Chelsea\nLambeth\nLewisham\nSouthwark\nTower Hamlets\nWandsworth\nWestminster\nBarking\nBarnet\nBexley\nBrent\nBromley\nCroydon\nEaling\nEnfield\nHaringey\nHarrow\nHavering\nHillingdon\nHounslow\nKingston upon Thames\nMerton\nNewham\nRedbridge\nRichmond upon Thames\nSutton\nCamden\nWaltham Forest\n"
                }
            ], 
            "source": "london_venues = getNearbyVenues(names=Borough_lat_long['Borough'],\n                                   latitudes=Borough_lat_long['latitude'],\n                                   longitudes=Borough_lat_long['longitude']\n                                  )"
        }, 
        {
            "execution_count": 16, 
            "cell_type": "code", 
            "metadata": {}, 
            "outputs": [
                {
                    "execution_count": 16, 
                    "metadata": {}, 
                    "data": {
                        "text/html": "<div>\n<style scoped>\n    .dataframe tbody tr th:only-of-type {\n        vertical-align: middle;\n    }\n\n    .dataframe tbody tr th {\n        vertical-align: top;\n    }\n\n    .dataframe thead th {\n        text-align: right;\n    }\n</style>\n<table border=\"1\" class=\"dataframe\">\n  <thead>\n    <tr style=\"text-align: right;\">\n      <th></th>\n      <th>Borough</th>\n      <th>Borough Latitude</th>\n      <th>Borough Longitude</th>\n      <th>Venue</th>\n      <th>Venue Latitude</th>\n      <th>Venue Longitude</th>\n      <th>Venue Category</th>\n    </tr>\n  </thead>\n  <tbody>\n    <tr>\n      <th>0</th>\n      <td>Greenwich</td>\n      <td>51.482084</td>\n      <td>-0.004542</td>\n      <td>Old Royal Naval College</td>\n      <td>51.483234</td>\n      <td>-0.005579</td>\n      <td>Historic Site</td>\n    </tr>\n    <tr>\n      <th>1</th>\n      <td>Greenwich</td>\n      <td>51.482084</td>\n      <td>-0.004542</td>\n      <td>Painted Hall</td>\n      <td>51.482889</td>\n      <td>-0.006420</td>\n      <td>Museum</td>\n    </tr>\n    <tr>\n      <th>2</th>\n      <td>Greenwich</td>\n      <td>51.482084</td>\n      <td>-0.004542</td>\n      <td>National Maritime Museum</td>\n      <td>51.481329</td>\n      <td>-0.005581</td>\n      <td>History Museum</td>\n    </tr>\n    <tr>\n      <th>3</th>\n      <td>Greenwich</td>\n      <td>51.482084</td>\n      <td>-0.004542</td>\n      <td>Greenwich Naval College Gardens</td>\n      <td>51.483007</td>\n      <td>-0.008362</td>\n      <td>Garden</td>\n    </tr>\n    <tr>\n      <th>4</th>\n      <td>Greenwich</td>\n      <td>51.482084</td>\n      <td>-0.004542</td>\n      <td>The Plume of Feathers</td>\n      <td>51.481945</td>\n      <td>-0.001126</td>\n      <td>Pub</td>\n    </tr>\n  </tbody>\n</table>\n</div>", 
                        "text/plain": "     Borough  Borough Latitude  Borough Longitude  \\\n0  Greenwich         51.482084          -0.004542   \n1  Greenwich         51.482084          -0.004542   \n2  Greenwich         51.482084          -0.004542   \n3  Greenwich         51.482084          -0.004542   \n4  Greenwich         51.482084          -0.004542   \n\n                             Venue  Venue Latitude  Venue Longitude  \\\n0          Old Royal Naval College       51.483234        -0.005579   \n1                     Painted Hall       51.482889        -0.006420   \n2         National Maritime Museum       51.481329        -0.005581   \n3  Greenwich Naval College Gardens       51.483007        -0.008362   \n4            The Plume of Feathers       51.481945        -0.001126   \n\n   Venue Category  \n0   Historic Site  \n1          Museum  \n2  History Museum  \n3          Garden  \n4             Pub  "
                    }, 
                    "output_type": "execute_result"
                }
            ], 
            "source": "london_venues.head()"
        }, 
        {
            "source": "### Let's find out how many unique categories can be curated from all the returned venues", 
            "cell_type": "markdown", 
            "metadata": {}
        }, 
        {
            "execution_count": 12, 
            "cell_type": "code", 
            "metadata": {}, 
            "outputs": [
                {
                    "output_type": "stream", 
                    "name": "stdout", 
                    "text": "There are 222 uniques categories.\n"
                }
            ], 
            "source": "#london_venues['Venue Category'].value_counts()\nprint('There are {} uniques categories.'.format(len(london_venues['Venue Category'].unique())))\n"
        }, 
        {
            "source": "### Analyze Each Neighborhood\n", 
            "cell_type": "markdown", 
            "metadata": {}
        }, 
        {
            "execution_count": 19, 
            "cell_type": "code", 
            "metadata": {}, 
            "outputs": [
                {
                    "execution_count": 19, 
                    "metadata": {}, 
                    "data": {
                        "text/html": "<div>\n<style scoped>\n    .dataframe tbody tr th:only-of-type {\n        vertical-align: middle;\n    }\n\n    .dataframe tbody tr th {\n        vertical-align: top;\n    }\n\n    .dataframe thead th {\n        text-align: right;\n    }\n</style>\n<table border=\"1\" class=\"dataframe\">\n  <thead>\n    <tr style=\"text-align: right;\">\n      <th></th>\n      <th>Borough</th>\n      <th>Afghan Restaurant</th>\n      <th>African Restaurant</th>\n      <th>American Restaurant</th>\n      <th>Antique Shop</th>\n      <th>Aquarium</th>\n      <th>Arcade</th>\n      <th>Arepa Restaurant</th>\n      <th>Art Gallery</th>\n      <th>Arts &amp; Crafts Store</th>\n      <th>...</th>\n      <th>Vegetarian / Vegan Restaurant</th>\n      <th>Video Game Store</th>\n      <th>Video Store</th>\n      <th>Vietnamese Restaurant</th>\n      <th>Warehouse Store</th>\n      <th>Wine Bar</th>\n      <th>Wine Shop</th>\n      <th>Wings Joint</th>\n      <th>Women's Store</th>\n      <th>Yoga Studio</th>\n    </tr>\n  </thead>\n  <tbody>\n    <tr>\n      <th>0</th>\n      <td>Greenwich</td>\n      <td>0</td>\n      <td>0</td>\n      <td>0</td>\n      <td>0</td>\n      <td>0</td>\n      <td>0</td>\n      <td>0</td>\n      <td>0</td>\n      <td>0</td>\n      <td>...</td>\n      <td>0</td>\n      <td>0</td>\n      <td>0</td>\n      <td>0</td>\n      <td>0</td>\n      <td>0</td>\n      <td>0</td>\n      <td>0</td>\n      <td>0</td>\n      <td>0</td>\n    </tr>\n    <tr>\n      <th>1</th>\n      <td>Greenwich</td>\n      <td>0</td>\n      <td>0</td>\n      <td>0</td>\n      <td>0</td>\n      <td>0</td>\n      <td>0</td>\n      <td>0</td>\n      <td>0</td>\n      <td>0</td>\n      <td>...</td>\n      <td>0</td>\n      <td>0</td>\n      <td>0</td>\n      <td>0</td>\n      <td>0</td>\n      <td>0</td>\n      <td>0</td>\n      <td>0</td>\n      <td>0</td>\n      <td>0</td>\n    </tr>\n    <tr>\n      <th>2</th>\n      <td>Greenwich</td>\n      <td>0</td>\n      <td>0</td>\n      <td>0</td>\n      <td>0</td>\n      <td>0</td>\n      <td>0</td>\n      <td>0</td>\n      <td>0</td>\n      <td>0</td>\n      <td>...</td>\n      <td>0</td>\n      <td>0</td>\n      <td>0</td>\n      <td>0</td>\n      <td>0</td>\n      <td>0</td>\n      <td>0</td>\n      <td>0</td>\n      <td>0</td>\n      <td>0</td>\n    </tr>\n    <tr>\n      <th>3</th>\n      <td>Greenwich</td>\n      <td>0</td>\n      <td>0</td>\n      <td>0</td>\n      <td>0</td>\n      <td>0</td>\n      <td>0</td>\n      <td>0</td>\n      <td>0</td>\n      <td>0</td>\n      <td>...</td>\n      <td>0</td>\n      <td>0</td>\n      <td>0</td>\n      <td>0</td>\n      <td>0</td>\n      <td>0</td>\n      <td>0</td>\n      <td>0</td>\n      <td>0</td>\n      <td>0</td>\n    </tr>\n    <tr>\n      <th>4</th>\n      <td>Greenwich</td>\n      <td>0</td>\n      <td>0</td>\n      <td>0</td>\n      <td>0</td>\n      <td>0</td>\n      <td>0</td>\n      <td>0</td>\n      <td>0</td>\n      <td>0</td>\n      <td>...</td>\n      <td>0</td>\n      <td>0</td>\n      <td>0</td>\n      <td>0</td>\n      <td>0</td>\n      <td>0</td>\n      <td>0</td>\n      <td>0</td>\n      <td>0</td>\n      <td>0</td>\n    </tr>\n  </tbody>\n</table>\n<p>5 rows \u00d7 223 columns</p>\n</div>", 
                        "text/plain": "     Borough  Afghan Restaurant  African Restaurant  American Restaurant  \\\n0  Greenwich                  0                   0                    0   \n1  Greenwich                  0                   0                    0   \n2  Greenwich                  0                   0                    0   \n3  Greenwich                  0                   0                    0   \n4  Greenwich                  0                   0                    0   \n\n   Antique Shop  Aquarium  Arcade  Arepa Restaurant  Art Gallery  \\\n0             0         0       0                 0            0   \n1             0         0       0                 0            0   \n2             0         0       0                 0            0   \n3             0         0       0                 0            0   \n4             0         0       0                 0            0   \n\n   Arts & Crafts Store  ...  Vegetarian / Vegan Restaurant  Video Game Store  \\\n0                    0  ...                              0                 0   \n1                    0  ...                              0                 0   \n2                    0  ...                              0                 0   \n3                    0  ...                              0                 0   \n4                    0  ...                              0                 0   \n\n   Video Store  Vietnamese Restaurant  Warehouse Store  Wine Bar  Wine Shop  \\\n0            0                      0                0         0          0   \n1            0                      0                0         0          0   \n2            0                      0                0         0          0   \n3            0                      0                0         0          0   \n4            0                      0                0         0          0   \n\n   Wings Joint  Women's Store  Yoga Studio  \n0            0              0            0  \n1            0              0            0  \n2            0              0            0  \n3            0              0            0  \n4            0              0            0  \n\n[5 rows x 223 columns]"
                    }, 
                    "output_type": "execute_result"
                }
            ], 
            "source": "london_onehot = pd.get_dummies(london_venues[['Venue Category']], prefix=\"\", prefix_sep=\"\")\n\n# add neighborhood column back to dataframe\nlondon_onehot['Borough'] = london_venues['Borough'] \n\n# move neighborhood column to the first column\nBorough_pos = london_onehot.columns.get_loc(\"Borough\")\nfixed_columns = ([london_onehot.columns[Borough_pos]] + \n                 list(london_onehot.columns[:Borough_pos]) + \n                 list(london_onehot.columns[(Borough_pos+1):]))\n\nlondon_onehot = london_onehot[fixed_columns]\nlondon_onehot.head()"
        }, 
        {
            "source": "### Let's print each borough along with the top 5 most common venues\n", 
            "cell_type": "markdown", 
            "metadata": {}
        }, 
        {
            "execution_count": 21, 
            "cell_type": "code", 
            "metadata": {}, 
            "outputs": [
                {
                    "output_type": "stream", 
                    "name": "stdout", 
                    "text": "----Barking----\n                venue  freq\n0       Grocery Store  0.15\n1         Supermarket  0.10\n2            Pharmacy  0.05\n3                 Gym  0.05\n4  Chinese Restaurant  0.05\n\n\n----Barnet----\n                  venue  freq\n0                   Pub  0.29\n1  Fast Food Restaurant  0.14\n2     French Restaurant  0.14\n3           Supermarket  0.14\n4                   Gym  0.14\n\n\n----Bexley----\n                  venue  freq\n0                   Pub  0.18\n1  Fast Food Restaurant  0.18\n2    Italian Restaurant  0.09\n3         Train Station  0.09\n4        Breakfast Spot  0.09\n\n\n----Brent----\n                  venue  freq\n0          Cupcake Shop   0.2\n1     Indian Restaurant   0.2\n2                  Park   0.2\n3  Gym / Fitness Center   0.2\n4  Fast Food Restaurant   0.2\n\n\n----Bromley----\n                  venue  freq\n0           Coffee Shop  0.13\n1        Clothing Store  0.11\n2                   Pub  0.07\n3  Gym / Fitness Center  0.04\n4           Pizza Place  0.04\n\n\n----Camden----\n          venue  freq\n0           Pub  0.12\n1   Coffee Shop  0.08\n2        Market  0.03\n3          Caf\u00e9  0.03\n4  Burger Joint  0.03\n\n\n----Croydon----\n                      venue  freq\n0                       Pub  0.16\n1               Coffee Shop  0.16\n2  Mediterranean Restaurant  0.04\n3               Pizza Place  0.04\n4            Clothing Store  0.04\n\n\n----Ealing----\n            venue  freq\n0     Coffee Shop  0.12\n1             Pub  0.07\n2  Clothing Store  0.04\n3        Platform  0.03\n4          Bakery  0.03\n\n\n----Enfield----\n               venue  freq\n0        Coffee Shop  0.06\n1     Clothing Store  0.06\n2  Mobile Phone Shop  0.05\n3     Sandwich Place  0.05\n4               Caf\u00e9  0.05\n\n\n----Greenwich----\n            venue  freq\n0   Boat or Ferry  0.09\n1             Pub  0.09\n2  History Museum  0.06\n3    Burger Joint  0.04\n4          Market  0.04\n\n\n----Hackney----\n            venue  freq\n0     Coffee Shop  0.17\n1             Pub  0.10\n2            Caf\u00e9  0.07\n3     Yoga Studio  0.03\n4  Shopping Plaza  0.03\n\n\n----Hammersmith----\n            venue  freq\n0             Pub  0.10\n1            Caf\u00e9  0.09\n2     Coffee Shop  0.09\n3           Hotel  0.04\n4  Sandwich Place  0.04\n\n\n----Haringey----\n               venue  freq\n0               Caf\u00e9  0.08\n1           Bus Stop  0.08\n2        Coffee Shop  0.08\n3  Indian Restaurant  0.06\n4               Park  0.06\n\n\n----Harrow----\n               venue  freq\n0             Bakery   0.2\n1  Indian Restaurant   0.2\n2     Sandwich Place   0.2\n3  Convenience Store   0.2\n4        Coffee Shop   0.2\n\n\n----Havering----\n            venue  freq\n0            Caf\u00e9  0.08\n1             Pub  0.08\n2             Bar  0.07\n3     Coffee Shop  0.07\n4  Ice Cream Shop  0.06\n\n\n----Hillingdon----\n                  venue  freq\n0                   Pub  0.25\n1                  Park  0.25\n2    Chinese Restaurant  0.25\n3  Fast Food Restaurant  0.25\n4    Persian Restaurant  0.00\n\n\n----Hounslow----\n               venue  freq\n0        Coffee Shop  0.10\n1              Hotel  0.10\n2      Grocery Store  0.08\n3  Indian Restaurant  0.08\n4     Clothing Store  0.08\n\n\n----Islington----\n                      venue  freq\n0                       Pub  0.09\n1  Mediterranean Restaurant  0.05\n2         French Restaurant  0.05\n3              Burger Joint  0.04\n4                    Bakery  0.03\n\n\n----Kensington and Chelsea----\n                venue  freq\n0                Caf\u00e9  0.12\n1  Italian Restaurant  0.08\n2      Clothing Store  0.04\n3                 Pub  0.04\n4      History Museum  0.04\n\n\n----Kingston upon Thames----\n                venue  freq\n0         Coffee Shop  0.10\n1  Italian Restaurant  0.08\n2                Caf\u00e9  0.07\n3                 Pub  0.06\n4      Clothing Store  0.03\n\n\n----Lambeth----\n                   venue  freq\n0                  Hotel  0.10\n1            Coffee Shop  0.08\n2         Sandwich Place  0.05\n3                    Bar  0.05\n4  Street Food Gathering  0.03\n\n\n----Lewisham----\n                  venue  freq\n0        Clothing Store  0.13\n1           Coffee Shop  0.07\n2           Supermarket  0.06\n3  Fast Food Restaurant  0.06\n4   Sporting Goods Shop  0.04\n\n\n----Merton----\n                  venue  freq\n0          Tram Station  0.20\n1                   Pub  0.13\n2  Brazilian Restaurant  0.07\n3        Hardware Store  0.07\n4           Flea Market  0.07\n\n\n----Newham----\n                 venue  freq\n0                  Pub  0.17\n1   Seafood Restaurant  0.17\n2  Fried Chicken Joint  0.17\n3          Video Store  0.17\n4          Coffee Shop  0.17\n\n\n----Redbridge----\n                         venue  freq\n0                          Pub   0.2\n1                        Hotel   0.2\n2                  Pizza Place   0.2\n3  Eastern European Restaurant   0.2\n4                Metro Station   0.2\n\n\n----Richmond upon Thames----\n               venue  freq\n0              Trail  0.25\n1      Garden Center  0.25\n2        Bus Station  0.25\n3  German Restaurant  0.25\n4         Nail Salon  0.00\n\n\n----Southwark----\n                  venue  freq\n0                   Pub  0.09\n1           Coffee Shop  0.08\n2                 Hotel  0.08\n3  Gym / Fitness Center  0.07\n4        Sandwich Place  0.04\n\n\n----Sutton----\n                venue  freq\n0              Bakery   0.2\n1  Italian Restaurant   0.2\n2       Grocery Store   0.2\n3                Park   0.2\n4       Train Station   0.2\n\n\n----Tower Hamlets----\n               venue  freq\n0               Park  0.09\n1      Grocery Store  0.09\n2  Indian Restaurant  0.09\n3           Bus Stop  0.06\n4    Harbor / Marina  0.06\n\n\n----Waltham Forest----\n                  venue  freq\n0           Coffee Shop  0.08\n1                   Pub  0.08\n2   Fried Chicken Joint  0.08\n3  Fast Food Restaurant  0.08\n4                  Caf\u00e9  0.05\n\n\n----Wandsworth----\n                  venue  freq\n0                   Pub  0.08\n1           Coffee Shop  0.08\n2        Clothing Store  0.08\n3           Pizza Place  0.06\n4  Gym / Fitness Center  0.06\n\n\n----Westminster----\n                  venue  freq\n0                 Hotel  0.11\n1        Sandwich Place  0.11\n2           Coffee Shop  0.11\n3               Theater  0.05\n4  Gym / Fitness Center  0.04\n\n\n"
                }
            ], 
            "source": "# Next, let's group rows by Borough and by taking the mean of the frequency of occurrence of each category\nlondon_grouped = london_onehot.groupby('Borough').mean().reset_index()\n\nnum_top_venues = 5\n\nfor hood in london_grouped['Borough']:\n    print(\"----\"+hood+\"----\")\n    temp = london_grouped[london_grouped['Borough'] == hood].T.reset_index()\n    temp.columns = ['venue','freq']\n    temp = temp.iloc[1:]\n    temp['freq'] = temp['freq'].astype(float)\n    temp = temp.round({'freq': 2})\n    print(temp.sort_values('freq', ascending=False).reset_index(drop=True).head(num_top_venues))\n    print('\\n')"
        }, 
        {
            "source": "### Let's put that into a pandas dataframe", 
            "cell_type": "markdown", 
            "metadata": {}
        }, 
        {
            "execution_count": 22, 
            "cell_type": "code", 
            "metadata": {}, 
            "outputs": [], 
            "source": "def return_most_common_venues(row, num_top_venues):\n    row_categories = row.iloc[1:]\n    row_categories_sorted = row_categories.sort_values(ascending=False)\n    \n    return row_categories_sorted.index.values[0:num_top_venues]"
        }, 
        {
            "execution_count": 23, 
            "cell_type": "code", 
            "metadata": {}, 
            "outputs": [
                {
                    "execution_count": 23, 
                    "metadata": {}, 
                    "data": {
                        "text/html": "<div>\n<style scoped>\n    .dataframe tbody tr th:only-of-type {\n        vertical-align: middle;\n    }\n\n    .dataframe tbody tr th {\n        vertical-align: top;\n    }\n\n    .dataframe thead th {\n        text-align: right;\n    }\n</style>\n<table border=\"1\" class=\"dataframe\">\n  <thead>\n    <tr style=\"text-align: right;\">\n      <th></th>\n      <th>Borough</th>\n      <th>1st Most Common Venue</th>\n      <th>2nd Most Common Venue</th>\n      <th>3rd Most Common Venue</th>\n      <th>4th Most Common Venue</th>\n      <th>5th Most Common Venue</th>\n      <th>6th Most Common Venue</th>\n      <th>7th Most Common Venue</th>\n      <th>8th Most Common Venue</th>\n      <th>9th Most Common Venue</th>\n      <th>10th Most Common Venue</th>\n    </tr>\n  </thead>\n  <tbody>\n    <tr>\n      <th>0</th>\n      <td>Barking</td>\n      <td>Grocery Store</td>\n      <td>Supermarket</td>\n      <td>Pub</td>\n      <td>Caf\u00e9</td>\n      <td>Steakhouse</td>\n      <td>Theater</td>\n      <td>Chinese Restaurant</td>\n      <td>Spa</td>\n      <td>Sandwich Place</td>\n      <td>Gym</td>\n    </tr>\n    <tr>\n      <th>1</th>\n      <td>Barnet</td>\n      <td>Pub</td>\n      <td>Gym</td>\n      <td>Supermarket</td>\n      <td>Fast Food Restaurant</td>\n      <td>Train Station</td>\n      <td>French Restaurant</td>\n      <td>Event Space</td>\n      <td>Food &amp; Drink Shop</td>\n      <td>Food</td>\n      <td>Flea Market</td>\n    </tr>\n    <tr>\n      <th>2</th>\n      <td>Bexley</td>\n      <td>Fast Food Restaurant</td>\n      <td>Pub</td>\n      <td>Indian Restaurant</td>\n      <td>Train Station</td>\n      <td>Greek Restaurant</td>\n      <td>Bar</td>\n      <td>Toy / Game Store</td>\n      <td>Breakfast Spot</td>\n      <td>Italian Restaurant</td>\n      <td>Dim Sum Restaurant</td>\n    </tr>\n    <tr>\n      <th>3</th>\n      <td>Brent</td>\n      <td>Indian Restaurant</td>\n      <td>Gym / Fitness Center</td>\n      <td>Park</td>\n      <td>Fast Food Restaurant</td>\n      <td>Cupcake Shop</td>\n      <td>Hostel</td>\n      <td>Event Space</td>\n      <td>Food</td>\n      <td>Flea Market</td>\n      <td>Fish Market</td>\n    </tr>\n    <tr>\n      <th>4</th>\n      <td>Bromley</td>\n      <td>Coffee Shop</td>\n      <td>Clothing Store</td>\n      <td>Pub</td>\n      <td>Pizza Place</td>\n      <td>Gym / Fitness Center</td>\n      <td>Burger Joint</td>\n      <td>Mexican Restaurant</td>\n      <td>Department Store</td>\n      <td>Bookstore</td>\n      <td>Furniture / Home Store</td>\n    </tr>\n  </tbody>\n</table>\n</div>", 
                        "text/plain": "   Borough 1st Most Common Venue 2nd Most Common Venue 3rd Most Common Venue  \\\n0  Barking         Grocery Store           Supermarket                   Pub   \n1   Barnet                   Pub                   Gym           Supermarket   \n2   Bexley  Fast Food Restaurant                   Pub     Indian Restaurant   \n3    Brent     Indian Restaurant  Gym / Fitness Center                  Park   \n4  Bromley           Coffee Shop        Clothing Store                   Pub   \n\n  4th Most Common Venue 5th Most Common Venue 6th Most Common Venue  \\\n0                  Caf\u00e9            Steakhouse               Theater   \n1  Fast Food Restaurant         Train Station     French Restaurant   \n2         Train Station      Greek Restaurant                   Bar   \n3  Fast Food Restaurant          Cupcake Shop                Hostel   \n4           Pizza Place  Gym / Fitness Center          Burger Joint   \n\n  7th Most Common Venue 8th Most Common Venue 9th Most Common Venue  \\\n0    Chinese Restaurant                   Spa        Sandwich Place   \n1           Event Space     Food & Drink Shop                  Food   \n2      Toy / Game Store        Breakfast Spot    Italian Restaurant   \n3           Event Space                  Food           Flea Market   \n4    Mexican Restaurant      Department Store             Bookstore   \n\n   10th Most Common Venue  \n0                     Gym  \n1             Flea Market  \n2      Dim Sum Restaurant  \n3             Fish Market  \n4  Furniture / Home Store  "
                    }, 
                    "output_type": "execute_result"
                }
            ], 
            "source": "num_top_venues = 10\n\nindicators = ['st', 'nd', 'rd']\n\n# create columns according to number of top venues\ncolumns = ['Borough']\nfor ind in np.arange(num_top_venues):\n    try:\n        columns.append('{}{} Most Common Venue'.format(ind+1, indicators[ind]))\n    except:\n        columns.append('{}th Most Common Venue'.format(ind+1))\n\n# create a new dataframe\nborough_venues_sorted = pd.DataFrame(columns=columns)\nborough_venues_sorted['Borough'] = london_grouped['Borough']\n\nfor ind in np.arange(london_grouped.shape[0]):\n    borough_venues_sorted.iloc[ind, 1:] = return_most_common_venues(london_grouped.iloc[ind, :], num_top_venues)\n\nborough_venues_sorted.head()"
        }, 
        {
            "execution_count": null, 
            "cell_type": "code", 
            "metadata": {}, 
            "outputs": [], 
            "source": ""
        }
    ], 
    "metadata": {
        "kernelspec": {
            "display_name": "Python 3.6", 
            "name": "python3", 
            "language": "python"
        }, 
        "language_info": {
            "mimetype": "text/x-python", 
            "nbconvert_exporter": "python", 
            "version": "3.6.8", 
            "name": "python", 
            "file_extension": ".py", 
            "pygments_lexer": "ipython3", 
            "codemirror_mode": {
                "version": 3, 
                "name": "ipython"
            }
        }
    }, 
    "nbformat": 4
}